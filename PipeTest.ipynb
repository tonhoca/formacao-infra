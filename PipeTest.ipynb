import requests
import pandas as pd
import matplotlib.pyplot as plt
#Parametros
#qtd 'n' de linhas (registros)
qtd =500
url = "https://randomuser.me/api/?results={}".format(qtd)
#coletar dados da API
dft = requests.get(url)
x = dft.json()
df = pd.DataFrame(x['results'])
#salvar o resultado em um arquivo CSV
df.to_csv('randomuser.csv', sep=',', encoding='utf-8')
#amostra da coleta
df.head(10)
#padronizando formato de telefone e celular, transformá-los para um formato único, escolhido arbitrariament
#retirando de phone caracteres 'espaço' ( - )
p = df['phone'].replace('\(','',regex=True)
p = p.replace(' ','',regex=True)
p = p.replace('\)','',regex=True)
p = p.replace('-','',regex=True)
# substituindo phone com novo formato
df['phone'] = '(' + p.str[:3] + ')' + p.str[3:6] + '-' + p.str[6:11]
#amostra de formatação
'(' + p.str[:3] + ')' + p.str[3:6] + '-' + p.str[6:11]
#retirando de cell caracteres 'espaço' ( - )
c = df['cell'].replace('\(','',regex=True)
c = c.replace(' ','',regex=True)
c = c.replace('\)','',regex=True)
c = c.replace('-','',regex=True)
# substituindo cell com novo formato
df['cell'] = '(' + c.str[:3] + ')' + c.str[3:6] + '-' + c.str[6:11]
#grupamento por gênero
#ordenar e contagem por gênero
df.sort_values(['gender'])
df.groupby(df['gender']).agg({'gender':'count'})
#grupamento por pais
#ordenar e contagem por pais
df.sort_values(['nat'])
df.groupby(df['nat']).agg({'nat':'count'}