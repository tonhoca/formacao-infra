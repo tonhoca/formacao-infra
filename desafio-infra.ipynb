{
 "cells": [
  {
   "cell_type": "code",
   "execution_count": 2,
   "id": "9d4e4bd9",
   "metadata": {},
   "outputs": [],
   "source": [
    "import requests as rq\n",
    "import pandas as pd\n",
    "import matplotlib.pyplot as plt\n",
    "import json\n",
    "from pandas.io.json import json_normalize"
   ]
  },
  {
   "cell_type": "markdown",
   "id": "e0e10739",
   "metadata": {},
   "source": [
    "# 1 Consumir Dados da url"
   ]
  },
  {
   "cell_type": "code",
   "execution_count": 3,
   "id": "6db4a1b4",
   "metadata": {},
   "outputs": [],
   "source": [
    "def lerAPI(url, qtd):  \n",
    "    if url[-1:] != \"/\" : \n",
    "        url = url + \"/?results={}\".format(qtd)\n",
    "    else:\n",
    "        url = url + \"?results={}\".format(qtd)       \n",
    "    return rq.get(url)   \n",
    "\n",
    "def jsontodf(respon):\n",
    "    x = respon.json()\n",
    "    return pd.json_normalize(x, record_path=['results'])\n"
   ]
  },
  {
   "cell_type": "markdown",
   "id": "92067206",
   "metadata": {},
   "source": [
    "# 2 Armazenar dados em CSV"
   ]
  },
  {
   "cell_type": "code",
   "execution_count": 21,
   "id": "e362d71b",
   "metadata": {},
   "outputs": [],
   "source": [
    "# dados planos\n",
    "conteudo = lerAPI(\"https://randomuser.me/api\", 500)\n",
    "df = jsontodf(conteudo)\n",
    "\n",
    "# normalize subset \n",
    "def normsubset():\n",
    "    x = conteudo.json()\n",
    "    df = pd.DataFrame(x['results'])\n",
    "    return df\n"
   ]
  },
  {
   "cell_type": "code",
   "execution_count": 19,
   "id": "a1de6843",
   "metadata": {},
   "outputs": [],
   "source": [
    "df.to_csv('randomuser.csv', sep=',', encoding='utf-8')"
   ]
  },
  {
   "cell_type": "markdown",
   "id": "510fba9c",
   "metadata": {},
   "source": [
    "# 3 Formato de telefone e celular, transformar em formato único arbitrario"
   ]
  },
  {
   "cell_type": "code",
   "execution_count": 5,
   "id": "757f98b5",
   "metadata": {},
   "outputs": [],
   "source": [
    "def maskfone(df):\n",
    "    # deixando apenas números\n",
    "    df['phone'] = df['phone'].str.replace(r'[^0-9a-zA-Z:,]+', '', regex=True)\n",
    "    # formato (nnnn)999-99999\n",
    "    df['phone'] =  '(' + df['phone'].str[:3] + ')' + df['phone'].str[3:6] + '-' + df['phone'].str[6:11]\n",
    "    df['cell'] = df['cell'].str.replace(r'[^0-9a-zA-Z:,]+', '', regex=True)\n",
    "    df['cell'] =  '(' + df['cell'].str[:3] + ')' + df['cell'].str[3:6] + '-' + df['cell'].str[6:11]\n",
    "    return df['cell']\n"
   ]
  },
  {
   "cell_type": "markdown",
   "id": "f24ca9aa",
   "metadata": {},
   "source": [
    "# 4 Agrupamento, porcentagem de usuários por país e gênero"
   ]
  },
  {
   "cell_type": "code",
   "execution_count": 6,
   "id": "c3fbe4b8",
   "metadata": {},
   "outputs": [],
   "source": [
    "# Agrupamento por gênero\n",
    "def qtporgenero():\n",
    "    #ordenar e contar por gênero\n",
    "    dfsex=df.sort_values(['gender'])\n",
    "    sex=dfsex.groupby(df['gender']).agg({'email':'count'})\n",
    "    perc = sex.apply(lambda x:100 * x / float(x.sum()))\n",
    "    \n",
    "    torta = dfsex.groupby(['gender']).count().plot(y='email',kind='pie')\n",
    "    print(torta)\n",
    "    print(perc)\n",
    "    perc.to_csv('perc_genero',sep=',', encoding='utf-8')"
   ]
  },
  {
   "cell_type": "code",
   "execution_count": 47,
   "id": "ceb8b5e8",
   "metadata": {},
   "outputs": [
    {
     "name": "stdout",
     "output_type": "stream",
     "text": [
      "AxesSubplot(0.22375,0.11;0.5775x0.77)\n",
      "        email\n",
      "gender       \n",
      "female   48.0\n",
      "male     52.0\n"
     ]
    },
    {
     "data": {
      "image/png": "[encoded data removed]",
      "text/plain": [
       "<Figure size 640x480 with 1 Axes>"
      ]
     },
     "metadata": {},
     "output_type": "display_data"
    }
   ],
   "source": [
    "qtporgenero()"
   ]
  },
  {
   "cell_type": "code",
   "execution_count": null,
   "id": "cedbc7df",
   "metadata": {},
   "outputs": [],
   "source": [
    "#Agrupamento por país"
   ]
  },
  {
   "cell_type": "code",
   "execution_count": 34,
   "id": "25421554",
   "metadata": {},
   "outputs": [],
   "source": [
    "# extrai location em dataframe\n",
    "df2 = normsubset()\n",
    "dfloc = pd.json_normalize(df2['location'])\n",
    "                          \n",
    "def percporpais():\n",
    "    city = dfloc.groupby(['country']).agg({'street.number':'count'})\n",
    "    dfpais = city.apply(lambda x:100 * x / float(x.sum()))\n",
    "    torta = dfloc.groupby(['country']).count().plot(y='street.number',kind='pie')\n",
    "    print(dfpais)\n",
    "    print(torta)"
   ]
  },
  {
   "cell_type": "markdown",
   "id": "ef1d7592",
   "metadata": {},
   "source": [
    "# 5 Analisando dados com agrupamento "
   ]
  },
  {
   "cell_type": "code",
   "execution_count": 45,
   "id": "c7def33d",
   "metadata": {},
   "outputs": [],
   "source": [
    "def usersPaisEstado(df):\n",
    "    ctr = df.groupby(['location.country','location.state'])[\"name.first\"].count()\n",
    "    return ctr"
   ]
  },
  {
   "cell_type": "markdown",
   "id": "0b69dd71",
   "metadata": {},
   "source": [
    "# 6 (opcional): Particionando dados"
   ]
  },
  {
   "cell_type": "code",
   "execution_count": 24,
   "id": "18da830b",
   "metadata": {},
   "outputs": [
    {
     "name": "stdout",
     "output_type": "stream",
     "text": [
      "Collecting pyarrow\n",
      "  Downloading pyarrow-11.0.0-cp39-cp39-win_amd64.whl (20.6 MB)\n",
      "     --------------------------------------- 20.6/20.6 MB 12.1 MB/s eta 0:00:00\n",
      "Requirement already satisfied: numpy>=1.16.6 in c:\\programdata\\anaconda3\\lib\\site-packages (from pyarrow) (1.21.5)\n",
      "Installing collected packages: pyarrow\n",
      "Successfully installed pyarrow-11.0.0\n",
      "Note: you may need to restart the kernel to use updated packages.\n"
     ]
    }
   ],
   "source": [
    "pip install pyarrow"
   ]
  },
  {
   "cell_type": "code",
   "execution_count": 33,
   "id": "b03abf63",
   "metadata": {},
   "outputs": [],
   "source": [
    "from datetime import datetime\n",
    "import os.path\n",
    "import pyarrow.parquet as pq\n",
    "import pyarrow as pa\n",
    "\n",
    "def FormatoHive(df):\n",
    "    df['location.postcode'] = df['location.postcode'].astype('string')\n",
    "    tab = pa.Table.from_pandas(df)\n",
    "    pq.write_to_dataset(tab, root_path='paisEstado', partition_cols=['location.country', 'location.state'])"
   ]
  },
  {
   "cell_type": "markdown",
   "id": "36c4d563",
   "metadata": {},
   "source": [
    "\n",
    "# 7 Parametrizando seu código"
   ]
  },
  {
   "cell_type": "code",
   "execution_count": 23,
   "id": "a33766b1",
   "metadata": {},
   "outputs": [],
   "source": [
    "def main(url, qtd, nmarq):\n",
    "    conteudo = lerAPI(url, qtd)\n",
    "    df = jsontodf(conteudo)\n",
    "    df.to_csv(nmarq, sep=',', encoding='utf-8')\n",
    "    maskfone(df) # formata phone e cell\n",
    "    qtporgenero() # qt por genero\n",
    "    usersPaisEstado(df): #grupa usuários por Pais Estado\n",
    "    FormatoHive(df) #particionando dados\n",
    "    \n",
    "url = \"https://randomuser.me/api/?results={}\"\n",
    "qtd = 500\n",
    "nmarq = \"randomuser.csv\"\n",
    "\n",
    "if len(sys.argv) > 1:\n",
    "    url = sys.argv[1]\n",
    "    if len(sys.argv)  >2:\n",
    "        qtd = sys.argv[2]\n",
    "        if len(sys.argv) > 3:\n",
    "            nmarq = sys.argv[3]\n",
    "    \n",
    "main(url, qtd, nmarq)\n"
   ]
  }
 ],
 "metadata": {
  "kernelspec": {
   "display_name": "Python 3 (ipykernel)",
   "language": "python",
   "name": "python3"
  },
  "language_info": {
   "codemirror_mode": {
    "name": "ipython",
    "version": 3
   },
   "file_extension": ".py",
   "mimetype": "text/x-python",
   "name": "python",
   "nbconvert_exporter": "python",
   "pygments_lexer": "ipython3",
   "version": "3.8.16"
  }
 },
 "nbformat": 4,
 "nbformat_minor": 5
}
