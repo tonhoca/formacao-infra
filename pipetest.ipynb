{
 "cells": [
  {
   "cell_type": "code",
   "execution_count": 50,
   "id": "9d4e4bd9",
   "metadata": {},
   "outputs": [],
   "source": [
    "import requests\n",
    "import pandas as pd\n",
    "import matplotlib.pyplot as plt"
   ]
  },
  {
   "cell_type": "code",
   "execution_count": null,
   "id": "6db4a1b4",
   "metadata": {},
   "outputs": [],
   "source": [
    "#Parametros\n",
    "#qtd 'n' de linhas (registros)"
   ]
  },
  {
   "cell_type": "code",
   "execution_count": 40,
   "id": "e703e80d",
   "metadata": {},
   "outputs": [],
   "source": [
    "qtd =500\n",
    "url = \"https://randomuser.me/api/?results={}\".format(qtd)"
   ]
  },
  {
   "cell_type": "code",
   "execution_count": null,
   "id": "aa751b69",
   "metadata": {},
   "outputs": [],
   "source": [
    "#coletar dados da API"
   ]
  },
  {
   "cell_type": "code",
   "execution_count": 18,
   "id": "a52e86ea",
   "metadata": {},
   "outputs": [],
   "source": [
    "dft = requests.get(url)"
   ]
  },
  {
   "cell_type": "code",
   "execution_count": 19,
   "id": "a07838c6",
   "metadata": {},
   "outputs": [],
   "source": [
    "x = dft.json()"
   ]
  },
  {
   "cell_type": "code",
   "execution_count": 20,
   "id": "ec1593cc",
   "metadata": {},
   "outputs": [],
   "source": [
    "df = pd.DataFrame(x['results'])"
   ]
  },
  {
   "cell_type": "code",
   "execution_count": null,
   "id": "fa9e4f8d",
   "metadata": {},
   "outputs": [],
   "source": [
    "#salvar o resultado em um arquivo CSV"
   ]
  },
  {
   "cell_type": "code",
   "execution_count": 59,
   "id": "ed2ac216",
   "metadata": {},
   "outputs": [],
   "source": [
    "df.to_csv('randomuser.csv', sep=',', encoding='utf-8')"
   ]
  },
  {
   "cell_type": "code",
   "execution_count": 58,
   "id": "d4e19859",
   "metadata": {},
   "outputs": [
    {
     "data": {
      "text/html": [
       "<div>\n",
       "<style scoped>\n",
       "    .dataframe tbody tr th:only-of-type {\n",
       "        vertical-align: middle;\n",
       "    }\n",
       "\n",
       "    .dataframe tbody tr th {\n",
       "        vertical-align: top;\n",
       "    }\n",
       "\n",
       "    .dataframe thead th {\n",
       "        text-align: right;\n",
       "    }\n",
       "</style>\n",
       "<table border=\"1\" class=\"dataframe\">\n",
       "  <thead>\n",
       "    <tr style=\"text-align: right;\">\n",
       "      <th></th>\n",
       "      <th>gender</th>\n",
       "      <th>name</th>\n",
       "      <th>location</th>\n",
       "      <th>email</th>\n",
       "      <th>login</th>\n",
       "      <th>dob</th>\n",
       "      <th>registered</th>\n",
       "      <th>phone</th>\n",
       "      <th>cell</th>\n",
       "      <th>id</th>\n",
       "      <th>picture</th>\n",
       "      <th>nat</th>\n",
       "    </tr>\n",
       "  </thead>\n",
       "  <tbody>\n",
       "    <tr>\n",
       "      <th>0</th>\n",
       "      <td>male</td>\n",
       "      <td>{'title': 'Mr', 'first': 'Antoine', 'last': 'V...</td>\n",
       "      <td>{'street': {'number': 1403, 'name': 'Avenue Go...</td>\n",
       "      <td>antoine.vidal@example.com</td>\n",
       "      <td>{'uuid': '1f621168-ce40-4d35-998c-8112bb6d5f00...</td>\n",
       "      <td>{'date': '1949-02-25T06:59:11.755Z', 'age': 73}</td>\n",
       "      <td>{'date': '2004-04-11T06:52:36.289Z', 'age': 18}</td>\n",
       "      <td>04-73-83-90-08</td>\n",
       "      <td>06-33-59-32-12</td>\n",
       "      <td>{'name': 'INSEE', 'value': '1490179258554 39'}</td>\n",
       "      <td>{'large': 'https://randomuser.me/api/portraits...</td>\n",
       "      <td>FR</td>\n",
       "    </tr>\n",
       "    <tr>\n",
       "      <th>1</th>\n",
       "      <td>male</td>\n",
       "      <td>{'title': 'Mr', 'first': 'Robbin', 'last': 'Dağ'}</td>\n",
       "      <td>{'street': {'number': 3788, 'name': 'Geesterwa...</td>\n",
       "      <td>robbin.dag@example.com</td>\n",
       "      <td>{'uuid': '58f6314c-f38d-4897-a7c2-769347cf6bc0...</td>\n",
       "      <td>{'date': '1961-05-25T11:11:25.246Z', 'age': 61}</td>\n",
       "      <td>{'date': '2012-10-27T15:31:04.187Z', 'age': 10}</td>\n",
       "      <td>(0524) 521150</td>\n",
       "      <td>(06) 72790731</td>\n",
       "      <td>{'name': 'BSN', 'value': '42058072'}</td>\n",
       "      <td>{'large': 'https://randomuser.me/api/portraits...</td>\n",
       "      <td>NL</td>\n",
       "    </tr>\n",
       "    <tr>\n",
       "      <th>2</th>\n",
       "      <td>female</td>\n",
       "      <td>{'title': 'Mrs', 'first': 'Kerttu', 'last': 'L...</td>\n",
       "      <td>{'street': {'number': 1395, 'name': 'Reijolank...</td>\n",
       "      <td>kerttu.lakso@example.com</td>\n",
       "      <td>{'uuid': '8231489a-ab28-42f3-b847-942180cb3ce1...</td>\n",
       "      <td>{'date': '1977-03-27T06:02:40.538Z', 'age': 45}</td>\n",
       "      <td>{'date': '2003-02-16T20:07:54.679Z', 'age': 20}</td>\n",
       "      <td>05-938-012</td>\n",
       "      <td>040-689-56-53</td>\n",
       "      <td>{'name': 'HETU', 'value': 'NaNNA064undefined'}</td>\n",
       "      <td>{'large': 'https://randomuser.me/api/portraits...</td>\n",
       "      <td>FI</td>\n",
       "    </tr>\n",
       "    <tr>\n",
       "      <th>3</th>\n",
       "      <td>male</td>\n",
       "      <td>{'title': 'Monsieur', 'first': 'Laurin', 'last...</td>\n",
       "      <td>{'street': {'number': 4235, 'name': 'Rue de L'...</td>\n",
       "      <td>laurin.gonzalez@example.com</td>\n",
       "      <td>{'uuid': '27418d1c-4434-4897-9976-7c2b4b81fcc4...</td>\n",
       "      <td>{'date': '1994-11-09T06:40:54.108Z', 'age': 28}</td>\n",
       "      <td>{'date': '2020-04-03T01:40:32.071Z', 'age': 2}</td>\n",
       "      <td>079 526 58 52</td>\n",
       "      <td>075 123 39 60</td>\n",
       "      <td>{'name': 'AVS', 'value': '756.6964.5601.53'}</td>\n",
       "      <td>{'large': 'https://randomuser.me/api/portraits...</td>\n",
       "      <td>CH</td>\n",
       "    </tr>\n",
       "    <tr>\n",
       "      <th>4</th>\n",
       "      <td>female</td>\n",
       "      <td>{'title': 'Miss', 'first': 'Florence', 'last':...</td>\n",
       "      <td>{'street': {'number': 1632, 'name': 'Queens Ro...</td>\n",
       "      <td>florence.austin@example.com</td>\n",
       "      <td>{'uuid': '9351b90f-7f6d-4124-9ace-9b850a82386f...</td>\n",
       "      <td>{'date': '1952-04-19T18:43:14.520Z', 'age': 70}</td>\n",
       "      <td>{'date': '2006-10-02T05:42:29.369Z', 'age': 16}</td>\n",
       "      <td>016977 4098</td>\n",
       "      <td>07285 125978</td>\n",
       "      <td>{'name': 'NINO', 'value': 'XA 64 16 30 X'}</td>\n",
       "      <td>{'large': 'https://randomuser.me/api/portraits...</td>\n",
       "      <td>GB</td>\n",
       "    </tr>\n",
       "    <tr>\n",
       "      <th>5</th>\n",
       "      <td>male</td>\n",
       "      <td>{'title': 'Mr', 'first': 'Théodore', 'last': '...</td>\n",
       "      <td>{'street': {'number': 3867, 'name': 'Avenue Va...</td>\n",
       "      <td>theodore.garcia@example.com</td>\n",
       "      <td>{'uuid': 'bbc0d25f-6522-468e-aee3-f94a9d830234...</td>\n",
       "      <td>{'date': '2001-01-30T10:35:33.201Z', 'age': 22}</td>\n",
       "      <td>{'date': '2004-06-22T17:47:57.712Z', 'age': 18}</td>\n",
       "      <td>04-64-34-06-65</td>\n",
       "      <td>06-76-98-02-77</td>\n",
       "      <td>{'name': 'INSEE', 'value': '11010055876637 02'}</td>\n",
       "      <td>{'large': 'https://randomuser.me/api/portraits...</td>\n",
       "      <td>FR</td>\n",
       "    </tr>\n",
       "    <tr>\n",
       "      <th>6</th>\n",
       "      <td>male</td>\n",
       "      <td>{'title': 'Mr', 'first': 'Ranbir', 'last': 'Al...</td>\n",
       "      <td>{'street': {'number': 2258, 'name': 'Janpath'}...</td>\n",
       "      <td>ranbir.almeida@example.com</td>\n",
       "      <td>{'uuid': '90afa69a-0295-4686-8062-abc3e1dd0fe7...</td>\n",
       "      <td>{'date': '1965-09-09T06:20:58.261Z', 'age': 57}</td>\n",
       "      <td>{'date': '2012-04-20T16:23:26.687Z', 'age': 10}</td>\n",
       "      <td>8563471181</td>\n",
       "      <td>9838244669</td>\n",
       "      <td>{'name': 'UIDAI', 'value': '749187599198'}</td>\n",
       "      <td>{'large': 'https://randomuser.me/api/portraits...</td>\n",
       "      <td>IN</td>\n",
       "    </tr>\n",
       "    <tr>\n",
       "      <th>7</th>\n",
       "      <td>male</td>\n",
       "      <td>{'title': 'Mr', 'first': 'Mason', 'last': 'Cook'}</td>\n",
       "      <td>{'street': {'number': 6047, 'name': 'Kingsway'...</td>\n",
       "      <td>mason.cook@example.com</td>\n",
       "      <td>{'uuid': 'f12330b7-0617-441c-9973-5cd7c595eb89...</td>\n",
       "      <td>{'date': '1952-02-27T19:35:42.782Z', 'age': 70}</td>\n",
       "      <td>{'date': '2006-08-17T21:10:59.203Z', 'age': 16}</td>\n",
       "      <td>013873 51704</td>\n",
       "      <td>07786 293819</td>\n",
       "      <td>{'name': 'NINO', 'value': 'ZG 68 61 28 N'}</td>\n",
       "      <td>{'large': 'https://randomuser.me/api/portraits...</td>\n",
       "      <td>GB</td>\n",
       "    </tr>\n",
       "    <tr>\n",
       "      <th>8</th>\n",
       "      <td>male</td>\n",
       "      <td>{'title': 'Mr', 'first': 'Ratimir', 'last': 'D...</td>\n",
       "      <td>{'street': {'number': 1448, 'name': 'Batlavska...</td>\n",
       "      <td>ratimir.dincic@example.com</td>\n",
       "      <td>{'uuid': '636fa342-a6bc-4581-aeb6-0c3f9deea577...</td>\n",
       "      <td>{'date': '1971-07-10T21:06:15.810Z', 'age': 51}</td>\n",
       "      <td>{'date': '2020-05-17T21:32:26.382Z', 'age': 2}</td>\n",
       "      <td>033-2151-432</td>\n",
       "      <td>064-5945-258</td>\n",
       "      <td>{'name': 'SID', 'value': '228780604'}</td>\n",
       "      <td>{'large': 'https://randomuser.me/api/portraits...</td>\n",
       "      <td>RS</td>\n",
       "    </tr>\n",
       "    <tr>\n",
       "      <th>9</th>\n",
       "      <td>male</td>\n",
       "      <td>{'title': 'Mr', 'first': 'Joel', 'last': 'Keto'}</td>\n",
       "      <td>{'street': {'number': 9467, 'name': 'Hämeenkat...</td>\n",
       "      <td>joel.keto@example.com</td>\n",
       "      <td>{'uuid': '5a5bbbfe-c571-4ed2-838b-e729019d98ee...</td>\n",
       "      <td>{'date': '1961-10-13T21:42:16.393Z', 'age': 61}</td>\n",
       "      <td>{'date': '2021-02-09T11:38:35.943Z', 'age': 2}</td>\n",
       "      <td>03-696-696</td>\n",
       "      <td>041-955-33-90</td>\n",
       "      <td>{'name': 'HETU', 'value': 'NaNNA059undefined'}</td>\n",
       "      <td>{'large': 'https://randomuser.me/api/portraits...</td>\n",
       "      <td>FI</td>\n",
       "    </tr>\n",
       "  </tbody>\n",
       "</table>\n",
       "</div>"
      ],
      "text/plain": [
       "   gender                                               name  \\\n",
       "0    male  {'title': 'Mr', 'first': 'Antoine', 'last': 'V...   \n",
       "1    male  {'title': 'Mr', 'first': 'Robbin', 'last': 'Dağ'}   \n",
       "2  female  {'title': 'Mrs', 'first': 'Kerttu', 'last': 'L...   \n",
       "3    male  {'title': 'Monsieur', 'first': 'Laurin', 'last...   \n",
       "4  female  {'title': 'Miss', 'first': 'Florence', 'last':...   \n",
       "5    male  {'title': 'Mr', 'first': 'Théodore', 'last': '...   \n",
       "6    male  {'title': 'Mr', 'first': 'Ranbir', 'last': 'Al...   \n",
       "7    male  {'title': 'Mr', 'first': 'Mason', 'last': 'Cook'}   \n",
       "8    male  {'title': 'Mr', 'first': 'Ratimir', 'last': 'D...   \n",
       "9    male   {'title': 'Mr', 'first': 'Joel', 'last': 'Keto'}   \n",
       "\n",
       "                                            location  \\\n",
       "0  {'street': {'number': 1403, 'name': 'Avenue Go...   \n",
       "1  {'street': {'number': 3788, 'name': 'Geesterwa...   \n",
       "2  {'street': {'number': 1395, 'name': 'Reijolank...   \n",
       "3  {'street': {'number': 4235, 'name': 'Rue de L'...   \n",
       "4  {'street': {'number': 1632, 'name': 'Queens Ro...   \n",
       "5  {'street': {'number': 3867, 'name': 'Avenue Va...   \n",
       "6  {'street': {'number': 2258, 'name': 'Janpath'}...   \n",
       "7  {'street': {'number': 6047, 'name': 'Kingsway'...   \n",
       "8  {'street': {'number': 1448, 'name': 'Batlavska...   \n",
       "9  {'street': {'number': 9467, 'name': 'Hämeenkat...   \n",
       "\n",
       "                         email  \\\n",
       "0    antoine.vidal@example.com   \n",
       "1       robbin.dag@example.com   \n",
       "2     kerttu.lakso@example.com   \n",
       "3  laurin.gonzalez@example.com   \n",
       "4  florence.austin@example.com   \n",
       "5  theodore.garcia@example.com   \n",
       "6   ranbir.almeida@example.com   \n",
       "7       mason.cook@example.com   \n",
       "8   ratimir.dincic@example.com   \n",
       "9        joel.keto@example.com   \n",
       "\n",
       "                                               login  \\\n",
       "0  {'uuid': '1f621168-ce40-4d35-998c-8112bb6d5f00...   \n",
       "1  {'uuid': '58f6314c-f38d-4897-a7c2-769347cf6bc0...   \n",
       "2  {'uuid': '8231489a-ab28-42f3-b847-942180cb3ce1...   \n",
       "3  {'uuid': '27418d1c-4434-4897-9976-7c2b4b81fcc4...   \n",
       "4  {'uuid': '9351b90f-7f6d-4124-9ace-9b850a82386f...   \n",
       "5  {'uuid': 'bbc0d25f-6522-468e-aee3-f94a9d830234...   \n",
       "6  {'uuid': '90afa69a-0295-4686-8062-abc3e1dd0fe7...   \n",
       "7  {'uuid': 'f12330b7-0617-441c-9973-5cd7c595eb89...   \n",
       "8  {'uuid': '636fa342-a6bc-4581-aeb6-0c3f9deea577...   \n",
       "9  {'uuid': '5a5bbbfe-c571-4ed2-838b-e729019d98ee...   \n",
       "\n",
       "                                               dob  \\\n",
       "0  {'date': '1949-02-25T06:59:11.755Z', 'age': 73}   \n",
       "1  {'date': '1961-05-25T11:11:25.246Z', 'age': 61}   \n",
       "2  {'date': '1977-03-27T06:02:40.538Z', 'age': 45}   \n",
       "3  {'date': '1994-11-09T06:40:54.108Z', 'age': 28}   \n",
       "4  {'date': '1952-04-19T18:43:14.520Z', 'age': 70}   \n",
       "5  {'date': '2001-01-30T10:35:33.201Z', 'age': 22}   \n",
       "6  {'date': '1965-09-09T06:20:58.261Z', 'age': 57}   \n",
       "7  {'date': '1952-02-27T19:35:42.782Z', 'age': 70}   \n",
       "8  {'date': '1971-07-10T21:06:15.810Z', 'age': 51}   \n",
       "9  {'date': '1961-10-13T21:42:16.393Z', 'age': 61}   \n",
       "\n",
       "                                        registered           phone  \\\n",
       "0  {'date': '2004-04-11T06:52:36.289Z', 'age': 18}  04-73-83-90-08   \n",
       "1  {'date': '2012-10-27T15:31:04.187Z', 'age': 10}   (0524) 521150   \n",
       "2  {'date': '2003-02-16T20:07:54.679Z', 'age': 20}      05-938-012   \n",
       "3   {'date': '2020-04-03T01:40:32.071Z', 'age': 2}   079 526 58 52   \n",
       "4  {'date': '2006-10-02T05:42:29.369Z', 'age': 16}     016977 4098   \n",
       "5  {'date': '2004-06-22T17:47:57.712Z', 'age': 18}  04-64-34-06-65   \n",
       "6  {'date': '2012-04-20T16:23:26.687Z', 'age': 10}      8563471181   \n",
       "7  {'date': '2006-08-17T21:10:59.203Z', 'age': 16}    013873 51704   \n",
       "8   {'date': '2020-05-17T21:32:26.382Z', 'age': 2}    033-2151-432   \n",
       "9   {'date': '2021-02-09T11:38:35.943Z', 'age': 2}      03-696-696   \n",
       "\n",
       "             cell                                               id  \\\n",
       "0  06-33-59-32-12   {'name': 'INSEE', 'value': '1490179258554 39'}   \n",
       "1   (06) 72790731             {'name': 'BSN', 'value': '42058072'}   \n",
       "2   040-689-56-53   {'name': 'HETU', 'value': 'NaNNA064undefined'}   \n",
       "3   075 123 39 60     {'name': 'AVS', 'value': '756.6964.5601.53'}   \n",
       "4    07285 125978       {'name': 'NINO', 'value': 'XA 64 16 30 X'}   \n",
       "5  06-76-98-02-77  {'name': 'INSEE', 'value': '11010055876637 02'}   \n",
       "6      9838244669       {'name': 'UIDAI', 'value': '749187599198'}   \n",
       "7    07786 293819       {'name': 'NINO', 'value': 'ZG 68 61 28 N'}   \n",
       "8    064-5945-258            {'name': 'SID', 'value': '228780604'}   \n",
       "9   041-955-33-90   {'name': 'HETU', 'value': 'NaNNA059undefined'}   \n",
       "\n",
       "                                             picture nat  \n",
       "0  {'large': 'https://randomuser.me/api/portraits...  FR  \n",
       "1  {'large': 'https://randomuser.me/api/portraits...  NL  \n",
       "2  {'large': 'https://randomuser.me/api/portraits...  FI  \n",
       "3  {'large': 'https://randomuser.me/api/portraits...  CH  \n",
       "4  {'large': 'https://randomuser.me/api/portraits...  GB  \n",
       "5  {'large': 'https://randomuser.me/api/portraits...  FR  \n",
       "6  {'large': 'https://randomuser.me/api/portraits...  IN  \n",
       "7  {'large': 'https://randomuser.me/api/portraits...  GB  \n",
       "8  {'large': 'https://randomuser.me/api/portraits...  RS  \n",
       "9  {'large': 'https://randomuser.me/api/portraits...  FI  "
      ]
     },
     "execution_count": 58,
     "metadata": {},
     "output_type": "execute_result"
    }
   ],
   "source": [
    "df.head(10)"
   ]
  },
  {
   "cell_type": "code",
   "execution_count": null,
   "id": "abe95331",
   "metadata": {},
   "outputs": [],
   "source": [
    "#padronizando formato de telefone e celular, transformá-los para um formato único, escolhido arbitrariament"
   ]
  },
  {
   "cell_type": "code",
   "execution_count": 61,
   "id": "09f70a82",
   "metadata": {},
   "outputs": [],
   "source": [
    "#retirando de phone caracteres 'espaço' ( - )\n",
    "p = df['phone'].replace('\\(','',regex=True)\n",
    "p = p.replace(' ','',regex=True)\n",
    "p = p.replace('\\)','',regex=True)\n",
    "p = p.replace('-','',regex=True)\n",
    "# substituindo phone com novo formato\n",
    "df['phone'] = '(' + p.str[:3] + ')' + p.str[3:6] + '-' + p.str[6:11]"
   ]
  },
  {
   "cell_type": "code",
   "execution_count": 62,
   "id": "5c6ee5bf",
   "metadata": {},
   "outputs": [
    {
     "data": {
      "text/plain": [
       "0     (047)383-9008\n",
       "1     (052)452-1150\n",
       "2       (059)380-12\n",
       "3     (079)526-5852\n",
       "4     (016)977-4098\n",
       "5     (046)434-0665\n",
       "6     (856)347-1181\n",
       "7    (013)873-51704\n",
       "8     (033)215-1432\n",
       "9       (036)966-96\n",
       "Name: phone, dtype: object"
      ]
     },
     "execution_count": 62,
     "metadata": {},
     "output_type": "execute_result"
    }
   ],
   "source": [
    " '(' + p.str[:3] + ')' + p.str[3:6] + '-' + p.str[6:11]"
   ]
  },
  {
   "cell_type": "code",
   "execution_count": 37,
   "id": "a5a939c0",
   "metadata": {},
   "outputs": [],
   "source": [
    "#retirando de cell caracteres 'espaço' ( - )\n",
    "c = df['cell'].replace('\\(','',regex=True)\n",
    "c = c.replace(' ','',regex=True)\n",
    "c = c.replace('\\)','',regex=True)\n",
    "c = c.replace('-','',regex=True)\n",
    "# substituindo cell com novo formato\n",
    "df['cell'] = '(' + c.str[:3] + ')' + c.str[3:6] + '-' + c.str[6:11]"
   ]
  },
  {
   "cell_type": "code",
   "execution_count": null,
   "id": "68c1cac1",
   "metadata": {},
   "outputs": [],
   "source": [
    "#grupamento por gênero"
   ]
  },
  {
   "cell_type": "code",
   "execution_count": 67,
   "id": "cd97c31a",
   "metadata": {},
   "outputs": [
    {
     "data": {
      "text/html": [
       "<div>\n",
       "<style scoped>\n",
       "    .dataframe tbody tr th:only-of-type {\n",
       "        vertical-align: middle;\n",
       "    }\n",
       "\n",
       "    .dataframe tbody tr th {\n",
       "        vertical-align: top;\n",
       "    }\n",
       "\n",
       "    .dataframe thead th {\n",
       "        text-align: right;\n",
       "    }\n",
       "</style>\n",
       "<table border=\"1\" class=\"dataframe\">\n",
       "  <thead>\n",
       "    <tr style=\"text-align: right;\">\n",
       "      <th></th>\n",
       "      <th>gender</th>\n",
       "    </tr>\n",
       "    <tr>\n",
       "      <th>gender</th>\n",
       "      <th></th>\n",
       "    </tr>\n",
       "  </thead>\n",
       "  <tbody>\n",
       "    <tr>\n",
       "      <th>female</th>\n",
       "      <td>2</td>\n",
       "    </tr>\n",
       "    <tr>\n",
       "      <th>male</th>\n",
       "      <td>8</td>\n",
       "    </tr>\n",
       "  </tbody>\n",
       "</table>\n",
       "</div>"
      ],
      "text/plain": [
       "        gender\n",
       "gender        \n",
       "female       2\n",
       "male         8"
      ]
     },
     "execution_count": 67,
     "metadata": {},
     "output_type": "execute_result"
    }
   ],
   "source": [
    "#ordenar e contagem por gênero\n",
    "df.sort_values(['gender'])\n",
    "df.groupby(df['gender']).agg({'gender':'count'})"
   ]
  },
  {
   "cell_type": "code",
   "execution_count": null,
   "id": "24bd1dbe",
   "metadata": {},
   "outputs": [],
   "source": [
    "#grupamento por pais"
   ]
  },
  {
   "cell_type": "code",
   "execution_count": 70,
   "id": "cc7df569",
   "metadata": {},
   "outputs": [
    {
     "data": {
      "text/html": [
       "<div>\n",
       "<style scoped>\n",
       "    .dataframe tbody tr th:only-of-type {\n",
       "        vertical-align: middle;\n",
       "    }\n",
       "\n",
       "    .dataframe tbody tr th {\n",
       "        vertical-align: top;\n",
       "    }\n",
       "\n",
       "    .dataframe thead th {\n",
       "        text-align: right;\n",
       "    }\n",
       "</style>\n",
       "<table border=\"1\" class=\"dataframe\">\n",
       "  <thead>\n",
       "    <tr style=\"text-align: right;\">\n",
       "      <th></th>\n",
       "      <th>nat</th>\n",
       "    </tr>\n",
       "    <tr>\n",
       "      <th>nat</th>\n",
       "      <th></th>\n",
       "    </tr>\n",
       "  </thead>\n",
       "  <tbody>\n",
       "    <tr>\n",
       "      <th>CH</th>\n",
       "      <td>1</td>\n",
       "    </tr>\n",
       "    <tr>\n",
       "      <th>FI</th>\n",
       "      <td>2</td>\n",
       "    </tr>\n",
       "    <tr>\n",
       "      <th>FR</th>\n",
       "      <td>2</td>\n",
       "    </tr>\n",
       "    <tr>\n",
       "      <th>GB</th>\n",
       "      <td>2</td>\n",
       "    </tr>\n",
       "    <tr>\n",
       "      <th>IN</th>\n",
       "      <td>1</td>\n",
       "    </tr>\n",
       "    <tr>\n",
       "      <th>NL</th>\n",
       "      <td>1</td>\n",
       "    </tr>\n",
       "    <tr>\n",
       "      <th>RS</th>\n",
       "      <td>1</td>\n",
       "    </tr>\n",
       "  </tbody>\n",
       "</table>\n",
       "</div>"
      ],
      "text/plain": [
       "     nat\n",
       "nat     \n",
       "CH     1\n",
       "FI     2\n",
       "FR     2\n",
       "GB     2\n",
       "IN     1\n",
       "NL     1\n",
       "RS     1"
      ]
     },
     "execution_count": 70,
     "metadata": {},
     "output_type": "execute_result"
    }
   ],
   "source": [
    "#ordenar e contagem por pais\n",
    "df.sort_values(['nat'])\n",
    "df.groupby(df['nat']).agg({'nat':'count'}) "
   ]
  },
  {
   "cell_type": "code",
   "execution_count": 39,
   "id": "56729529",
   "metadata": {},
   "outputs": [
    {
     "data": {
      "text/plain": [
       "0     (047)383-9008\n",
       "1     (052)452-1150\n",
       "2       (059)380-12\n",
       "3     (079)526-5852\n",
       "4     (016)977-4098\n",
       "5     (046)434-0665\n",
       "6     (856)347-1181\n",
       "7    (013)873-51704\n",
       "8     (033)215-1432\n",
       "9       (036)966-96\n",
       "Name: phone, dtype: object"
      ]
     },
     "execution_count": 39,
     "metadata": {},
     "output_type": "execute_result"
    }
   ],
   "source": []
  },
  {
   "cell_type": "code",
   "execution_count": 63,
   "id": "8cf8ef93",
   "metadata": {},
   "outputs": [],
   "source": [
    "df.sort_values(['gender'])\n",
    "sex = df.groupby(df['gender']).agg({'name':'count'})"
   ]
  },
  {
   "cell_type": "code",
   "execution_count": 53,
   "id": "523d6c12",
   "metadata": {},
   "outputs": [],
   "source": [
    "sex = df.groupby(df['gender']).agg({'name':'count'})"
   ]
  },
  {
   "cell_type": "code",
   "execution_count": 51,
   "id": "503ef98d",
   "metadata": {},
   "outputs": [
    {
     "ename": "KeyError",
     "evalue": "'gender'",
     "output_type": "error",
     "traceback": [
      "\u001b[1;31m---------------------------------------------------------------------------\u001b[0m",
      "\u001b[1;31mKeyError\u001b[0m                                  Traceback (most recent call last)",
      "\u001b[1;32mC:\\ProgramData\\Anaconda3\\lib\\site-packages\\pandas\\core\\indexes\\base.py\u001b[0m in \u001b[0;36mget_loc\u001b[1;34m(self, key, method, tolerance)\u001b[0m\n\u001b[0;32m   3628\u001b[0m             \u001b[1;32mtry\u001b[0m\u001b[1;33m:\u001b[0m\u001b[1;33m\u001b[0m\u001b[1;33m\u001b[0m\u001b[0m\n\u001b[1;32m-> 3629\u001b[1;33m                 \u001b[1;32mreturn\u001b[0m \u001b[0mself\u001b[0m\u001b[1;33m.\u001b[0m\u001b[0m_engine\u001b[0m\u001b[1;33m.\u001b[0m\u001b[0mget_loc\u001b[0m\u001b[1;33m(\u001b[0m\u001b[0mcasted_key\u001b[0m\u001b[1;33m)\u001b[0m\u001b[1;33m\u001b[0m\u001b[1;33m\u001b[0m\u001b[0m\n\u001b[0m\u001b[0;32m   3630\u001b[0m             \u001b[1;32mexcept\u001b[0m \u001b[0mKeyError\u001b[0m \u001b[1;32mas\u001b[0m \u001b[0merr\u001b[0m\u001b[1;33m:\u001b[0m\u001b[1;33m\u001b[0m\u001b[1;33m\u001b[0m\u001b[0m\n",
      "\u001b[1;32mC:\\ProgramData\\Anaconda3\\lib\\site-packages\\pandas\\_libs\\index.pyx\u001b[0m in \u001b[0;36mpandas._libs.index.IndexEngine.get_loc\u001b[1;34m()\u001b[0m\n",
      "\u001b[1;32mC:\\ProgramData\\Anaconda3\\lib\\site-packages\\pandas\\_libs\\index.pyx\u001b[0m in \u001b[0;36mpandas._libs.index.IndexEngine.get_loc\u001b[1;34m()\u001b[0m\n",
      "\u001b[1;32mpandas\\_libs\\hashtable_class_helper.pxi\u001b[0m in \u001b[0;36mpandas._libs.hashtable.PyObjectHashTable.get_item\u001b[1;34m()\u001b[0m\n",
      "\u001b[1;32mpandas\\_libs\\hashtable_class_helper.pxi\u001b[0m in \u001b[0;36mpandas._libs.hashtable.PyObjectHashTable.get_item\u001b[1;34m()\u001b[0m\n",
      "\u001b[1;31mKeyError\u001b[0m: 'gender'",
      "\nThe above exception was the direct cause of the following exception:\n",
      "\u001b[1;31mKeyError\u001b[0m                                  Traceback (most recent call last)",
      "\u001b[1;32m~\\AppData\\Local\\Temp\\ipykernel_4264\\3117873105.py\u001b[0m in \u001b[0;36m<module>\u001b[1;34m\u001b[0m\n\u001b[1;32m----> 1\u001b[1;33m \u001b[0mplt\u001b[0m\u001b[1;33m.\u001b[0m\u001b[0mplot\u001b[0m\u001b[1;33m(\u001b[0m\u001b[0msex\u001b[0m\u001b[1;33m[\u001b[0m\u001b[1;34m'gender'\u001b[0m\u001b[1;33m]\u001b[0m\u001b[1;33m,\u001b[0m\u001b[0msex\u001b[0m\u001b[1;33m[\u001b[0m\u001b[1;34m'name'\u001b[0m\u001b[1;33m]\u001b[0m\u001b[1;33m)\u001b[0m\u001b[1;33m\u001b[0m\u001b[1;33m\u001b[0m\u001b[0m\n\u001b[0m",
      "\u001b[1;32mC:\\ProgramData\\Anaconda3\\lib\\site-packages\\pandas\\core\\frame.py\u001b[0m in \u001b[0;36m__getitem__\u001b[1;34m(self, key)\u001b[0m\n\u001b[0;32m   3503\u001b[0m             \u001b[1;32mif\u001b[0m \u001b[0mself\u001b[0m\u001b[1;33m.\u001b[0m\u001b[0mcolumns\u001b[0m\u001b[1;33m.\u001b[0m\u001b[0mnlevels\u001b[0m \u001b[1;33m>\u001b[0m \u001b[1;36m1\u001b[0m\u001b[1;33m:\u001b[0m\u001b[1;33m\u001b[0m\u001b[1;33m\u001b[0m\u001b[0m\n\u001b[0;32m   3504\u001b[0m                 \u001b[1;32mreturn\u001b[0m \u001b[0mself\u001b[0m\u001b[1;33m.\u001b[0m\u001b[0m_getitem_multilevel\u001b[0m\u001b[1;33m(\u001b[0m\u001b[0mkey\u001b[0m\u001b[1;33m)\u001b[0m\u001b[1;33m\u001b[0m\u001b[1;33m\u001b[0m\u001b[0m\n\u001b[1;32m-> 3505\u001b[1;33m             \u001b[0mindexer\u001b[0m \u001b[1;33m=\u001b[0m \u001b[0mself\u001b[0m\u001b[1;33m.\u001b[0m\u001b[0mcolumns\u001b[0m\u001b[1;33m.\u001b[0m\u001b[0mget_loc\u001b[0m\u001b[1;33m(\u001b[0m\u001b[0mkey\u001b[0m\u001b[1;33m)\u001b[0m\u001b[1;33m\u001b[0m\u001b[1;33m\u001b[0m\u001b[0m\n\u001b[0m\u001b[0;32m   3506\u001b[0m             \u001b[1;32mif\u001b[0m \u001b[0mis_integer\u001b[0m\u001b[1;33m(\u001b[0m\u001b[0mindexer\u001b[0m\u001b[1;33m)\u001b[0m\u001b[1;33m:\u001b[0m\u001b[1;33m\u001b[0m\u001b[1;33m\u001b[0m\u001b[0m\n\u001b[0;32m   3507\u001b[0m                 \u001b[0mindexer\u001b[0m \u001b[1;33m=\u001b[0m \u001b[1;33m[\u001b[0m\u001b[0mindexer\u001b[0m\u001b[1;33m]\u001b[0m\u001b[1;33m\u001b[0m\u001b[1;33m\u001b[0m\u001b[0m\n",
      "\u001b[1;32mC:\\ProgramData\\Anaconda3\\lib\\site-packages\\pandas\\core\\indexes\\base.py\u001b[0m in \u001b[0;36mget_loc\u001b[1;34m(self, key, method, tolerance)\u001b[0m\n\u001b[0;32m   3629\u001b[0m                 \u001b[1;32mreturn\u001b[0m \u001b[0mself\u001b[0m\u001b[1;33m.\u001b[0m\u001b[0m_engine\u001b[0m\u001b[1;33m.\u001b[0m\u001b[0mget_loc\u001b[0m\u001b[1;33m(\u001b[0m\u001b[0mcasted_key\u001b[0m\u001b[1;33m)\u001b[0m\u001b[1;33m\u001b[0m\u001b[1;33m\u001b[0m\u001b[0m\n\u001b[0;32m   3630\u001b[0m             \u001b[1;32mexcept\u001b[0m \u001b[0mKeyError\u001b[0m \u001b[1;32mas\u001b[0m \u001b[0merr\u001b[0m\u001b[1;33m:\u001b[0m\u001b[1;33m\u001b[0m\u001b[1;33m\u001b[0m\u001b[0m\n\u001b[1;32m-> 3631\u001b[1;33m                 \u001b[1;32mraise\u001b[0m \u001b[0mKeyError\u001b[0m\u001b[1;33m(\u001b[0m\u001b[0mkey\u001b[0m\u001b[1;33m)\u001b[0m \u001b[1;32mfrom\u001b[0m \u001b[0merr\u001b[0m\u001b[1;33m\u001b[0m\u001b[1;33m\u001b[0m\u001b[0m\n\u001b[0m\u001b[0;32m   3632\u001b[0m             \u001b[1;32mexcept\u001b[0m \u001b[0mTypeError\u001b[0m\u001b[1;33m:\u001b[0m\u001b[1;33m\u001b[0m\u001b[1;33m\u001b[0m\u001b[0m\n\u001b[0;32m   3633\u001b[0m                 \u001b[1;31m# If we have a listlike key, _check_indexing_error will raise\u001b[0m\u001b[1;33m\u001b[0m\u001b[1;33m\u001b[0m\u001b[0m\n",
      "\u001b[1;31mKeyError\u001b[0m: 'gender'"
     ]
    }
   ],
   "source": [
    "plt.plot(sex['gender'],sex['name'])"
   ]
  },
  {
   "cell_type": "code",
   "execution_count": 57,
   "id": "5f5d094a",
   "metadata": {},
   "outputs": [
    {
     "data": {
      "text/html": [
       "<div>\n",
       "<style scoped>\n",
       "    .dataframe tbody tr th:only-of-type {\n",
       "        vertical-align: middle;\n",
       "    }\n",
       "\n",
       "    .dataframe tbody tr th {\n",
       "        vertical-align: top;\n",
       "    }\n",
       "\n",
       "    .dataframe thead th {\n",
       "        text-align: right;\n",
       "    }\n",
       "</style>\n",
       "<table border=\"1\" class=\"dataframe\">\n",
       "  <thead>\n",
       "    <tr style=\"text-align: right;\">\n",
       "      <th></th>\n",
       "      <th>name</th>\n",
       "    </tr>\n",
       "    <tr>\n",
       "      <th>gender</th>\n",
       "      <th></th>\n",
       "    </tr>\n",
       "  </thead>\n",
       "  <tbody>\n",
       "    <tr>\n",
       "      <th>female</th>\n",
       "      <td>2</td>\n",
       "    </tr>\n",
       "    <tr>\n",
       "      <th>male</th>\n",
       "      <td>8</td>\n",
       "    </tr>\n",
       "  </tbody>\n",
       "</table>\n",
       "</div>"
      ],
      "text/plain": [
       "        name\n",
       "gender      \n",
       "female     2\n",
       "male       8"
      ]
     },
     "execution_count": 57,
     "metadata": {},
     "output_type": "execute_result"
    }
   ],
   "source": [
    "sex"
   ]
  },
  {
   "cell_type": "code",
   "execution_count": null,
   "id": "e6622555",
   "metadata": {},
   "outputs": [],
   "source": []
  }
 ],
 "metadata": {
  "kernelspec": {
   "display_name": "Python 3 (ipykernel)",
   "language": "python",
   "name": "python3"
  },
  "language_info": {
   "codemirror_mode": {
    "name": "ipython",
    "version": 3
   },
   "file_extension": ".py",
   "mimetype": "text/x-python",
   "name": "python",
   "nbconvert_exporter": "python",
   "pygments_lexer": "ipython3",
   "version": "3.9.13"
  }
 },
 "nbformat": 4,
 "nbformat_minor": 5
}
